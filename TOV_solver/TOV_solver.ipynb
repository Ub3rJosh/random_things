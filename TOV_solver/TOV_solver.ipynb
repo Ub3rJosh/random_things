{
 "cells": [
  {
   "metadata": {
    "ExecuteTime": {
     "end_time": "2024-06-16T04:38:29.584106Z",
     "start_time": "2024-06-16T04:38:29.571541Z"
    }
   },
   "cell_type": "code",
   "source": [
    "%load_ext autoreload\n",
    "%autoreload 2"
   ],
   "id": "6ef46292bae6f063",
   "outputs": [],
   "execution_count": 1
  },
  {
   "cell_type": "code",
   "id": "initial_id",
   "metadata": {
    "collapsed": true,
    "ExecuteTime": {
     "end_time": "2024-06-16T04:40:58.594260Z",
     "start_time": "2024-06-16T04:40:58.272775Z"
    }
   },
   "source": [
    "import scipy\n",
    "import numpy as np\n",
    "from numba import njit\n",
    "from tqdm import tqdm\n",
    "from matplotlib import pyplot as plt\n",
    "\n",
    "from modules import c, first_order_rk4, first_order_rk4_slow"
   ],
   "outputs": [],
   "execution_count": 6
  },
  {
   "metadata": {},
   "cell_type": "markdown",
   "source": [
    "## TOV equation:  (diff-eq approach)\n",
    "\\begin{gather}\n",
    "    \\frac{dP}{dr} = \n",
    "    -\\frac{G m}{r^2} \\rho \n",
    "    \\left(1 + \\frac{P}{\\rho c^2}\\right) \n",
    "    \\left(1 + \\frac{4 \\pi r^3 P}{m c^2}\\right)\n",
    "    \\left(1 - \\frac{2 G m}{r c^2}\\right)^{-1}\n",
    "\\end{gather}\n",
    "\n",
    "but we want to solve the scaled TOV equations:\n",
    "\\begin{gather}\n",
    "    \\boxed{\n",
    "    \\frac{dp(x)}{dx} = -\\frac{1}{2} \\frac{\\left[\\epsilon(x) + p(x))\\right]\\left[m(x) + 3 x^3 p(x)\\right]}{x^2 \\left[1 - m(x)/x\\right]}\n",
    "    \\\\\n",
    "    \\frac{dm(x)}{dx} = 3 x^2 \\epsilon(x)\n",
    "    }\n",
    "\\end{gather}"
   ],
   "id": "127aff081999317c"
  },
  {
   "metadata": {
    "ExecuteTime": {
     "end_time": "2024-06-16T04:38:29.958315Z",
     "start_time": "2024-06-16T04:38:29.950364Z"
    }
   },
   "cell_type": "code",
   "source": [
    "Epsilon_naught = 1.285  # GeV / fm^3\n",
    "\n",
    "def epsilon(p_of_x, m_of_x):\n",
    "    # eps_of_p = np.sqrt((p_of_x * c) ** 2 + (m_of_x * c) ** 2)\n",
    "    eps_of_p = np.sqrt((p_of_x * 1) ** 2 + (m_of_x * 1) ** 2)\n",
    "    \n",
    "    return eps_of_p\n",
    "\n",
    "def m(x, p_of_x):\n",
    "    return 4 * np.pi * x**2 * p_of_x"
   ],
   "id": "80cd501103148b99",
   "outputs": [],
   "execution_count": 3
  },
  {
   "metadata": {
    "ExecuteTime": {
     "end_time": "2024-06-16T04:38:29.966325Z",
     "start_time": "2024-06-16T04:38:29.959050Z"
    }
   },
   "cell_type": "code",
   "source": [
    "n = 1_000\n",
    "\n",
    "x, dx = np.linspace(0, 100, n, retstep=True)  # units? lets use meters for now  -- just kidding it's solar masses\n",
    "x[0] = 1e-9  # eps"
   ],
   "id": "d631dfd774a75f62",
   "outputs": [],
   "execution_count": 4
  },
  {
   "metadata": {
    "ExecuteTime": {
     "end_time": "2024-06-16T04:38:30.228804Z",
     "start_time": "2024-06-16T04:38:30.228728Z"
    }
   },
   "cell_type": "code",
   "source": [
    "# def solve_ivp_diffeq(x, p):\n",
    "#     return np.array([p[0], -0.5 * (epsilon(p[1], m(x, p[1])) + p[1]) * (m(x, p[1]) + 3 * x * p[1]) / (x**2 * (1 - m(x, p[1]) / x))])\n",
    "# \n",
    "# solve_ivp_result = scipy.integrate.solve_ivp(solve_ivp_diffeq, (x[0], x[-1]), (0., 1.), t_eval=x)\n",
    "# print(solve_ivp_result)\n",
    "# \n",
    "# p = solve_ivp_result.y[0]\n",
    "# p_pr = solve_ivp_result.y[1]\n",
    "# \n",
    "# plt.plot(x, p, label=\"p\")\n",
    "# plt.plot(x, p_pr, label=\"p'\")\n",
    "# # plt.yscale(\"log\")\n",
    "# plt.legend()\n",
    "# plt.show()"
   ],
   "id": "c96a72845db49365",
   "outputs": [],
   "execution_count": null
  },
  {
   "metadata": {
    "ExecuteTime": {
     "end_time": "2024-06-16T04:57:31.625558Z",
     "start_time": "2024-06-16T04:57:31.543046Z"
    }
   },
   "cell_type": "code",
   "source": [
    "def ode(x, p):\n",
    "    equation = -0.5 * (epsilon(p, m(x, p)) + p) * (m(x, p) + 3 * x * p) / (x**2 * (1 - m(x, p) / x))\n",
    "    return equation\n",
    "\n",
    "ode_solution = first_order_rk4_slow(x, x[1], 1, ode)\n",
    "\n",
    "plt.plot(x, ode_solution)\n",
    "plt.ylim(-5, 5)\n",
    "plt.show()"
   ],
   "id": "449a9937429e8c0a",
   "outputs": [
    {
     "name": "stderr",
     "output_type": "stream",
     "text": [
      "/var/folders/58/xrmpvhh11mj0pb2kfrznw9qh0000gn/T/ipykernel_24860/2643870645.py:5: RuntimeWarning: overflow encountered in scalar power\n",
      "  eps_of_p = np.sqrt((p_of_x * 1) ** 2 + (m_of_x * 1) ** 2)\n",
      "/var/folders/58/xrmpvhh11mj0pb2kfrznw9qh0000gn/T/ipykernel_24860/686111469.py:2: RuntimeWarning: invalid value encountered in scalar divide\n",
      "  equation = -0.5 * (epsilon(p, m(x, p)) + p) * (m(x, p) + 3 * x * p) / (x**2 * (1 - m(x, p) / x))\n"
     ]
    },
    {
     "data": {
      "text/plain": [
       "<Figure size 640x480 with 1 Axes>"
      ],
      "image/png": "[encoded data removed]"
     },
     "metadata": {},
     "output_type": "display_data"
    }
   ],
   "execution_count": 17
  },
  {
   "metadata": {},
   "cell_type": "code",
   "source": "",
   "id": "67d3ecf8c4c4a1db",
   "outputs": [],
   "execution_count": null
  },
  {
   "metadata": {},
   "cell_type": "code",
   "source": "",
   "id": "48aac5a51677edc4",
   "outputs": [],
   "execution_count": null
  },
  {
   "metadata": {},
   "cell_type": "markdown",
   "source": [
    "## TOV equation(s): (integral-eq approach)\n",
    "\n",
    "\\begin{gather}\n",
    "    \\frac{dp}{dr} = -\\frac{G \\rho(r) \\mathcal{M}(r)}{r^2}\n",
    "    \\\\\n",
    "    \\frac{d\\mathcal{M}}{dr} = 4 \\pi^2 \\rho(r)\n",
    "    \\\\\n",
    "    \\mathcal{M}(r) = 4 \\pi \\int_0^r r'^2 \\rho(r') dr'\n",
    "\\end{gather}"
   ],
   "id": "92ec4997fc6bc620"
  },
  {
   "metadata": {},
   "cell_type": "code",
   "source": "",
   "id": "8b701646fa25b978",
   "outputs": [],
   "execution_count": null
  },
  {
   "metadata": {},
   "cell_type": "code",
   "source": "",
   "id": "adbd8407627e7e16",
   "outputs": [],
   "execution_count": null
  },
  {
   "metadata": {},
   "cell_type": "code",
   "source": "",
   "id": "ca974b7f56325a45",
   "outputs": [],
   "execution_count": null
  }
 ],
 "metadata": {
  "kernelspec": {
   "display_name": "Python 3",
   "language": "python",
   "name": "python3"
  },
  "language_info": {
   "codemirror_mode": {
    "name": "ipython",
    "version": 2
   },
   "file_extension": ".py",
   "mimetype": "text/x-python",
   "name": "python",
   "nbconvert_exporter": "python",
   "pygments_lexer": "ipython2",
   "version": "2.7.6"
  }
 },
 "nbformat": 4,
 "nbformat_minor": 5
}
