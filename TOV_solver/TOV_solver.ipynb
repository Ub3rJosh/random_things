{
 "cells": [
  {
   "cell_type": "code",
   "id": "initial_id",
   "metadata": {
    "collapsed": true,
    "ExecuteTime": {
     "end_time": "2024-06-12T02:59:30.733599Z",
     "start_time": "2024-06-12T02:59:30.730780Z"
    }
   },
   "source": [
    "from matplotlib import pyplot as plt\n",
    "import numpy as np\n",
    "import scipy\n",
    "\n",
    "from modules import c"
   ],
   "outputs": [],
   "execution_count": 3
  },
  {
   "metadata": {},
   "cell_type": "markdown",
   "source": [
    "## TOV equation:  (diff-eq approach)\n",
    "\\begin{gather}\n",
    "    \\frac{dP}{dr} = \n",
    "    -\\frac{G m}{r^2} \\rho \n",
    "    \\left(1 + \\frac{P}{\\rho c^2}\\right) \n",
    "    \\left(1 + \\frac{4 \\pi r^3 P}{m c^2}\\right)\n",
    "    \\left(1 - \\frac{2 G m}{r c^2}\\right)^{-1}\n",
    "\\end{gather}"
   ],
   "id": "127aff081999317c"
  },
  {
   "metadata": {},
   "cell_type": "code",
   "outputs": [],
   "execution_count": 2,
   "source": [
    "n = 100\n",
    "\n",
    "r, dr = np.linspace(0, 10, n, retstep=True)  # units? lets use meters for now"
   ],
   "id": "d631dfd774a75f62"
  },
  {
   "metadata": {},
   "cell_type": "code",
   "outputs": [],
   "execution_count": null,
   "source": "",
   "id": "c96a72845db49365"
  },
  {
   "metadata": {},
   "cell_type": "code",
   "outputs": [],
   "execution_count": null,
   "source": "",
   "id": "67d3ecf8c4c4a1db"
  },
  {
   "metadata": {},
   "cell_type": "code",
   "outputs": [],
   "execution_count": null,
   "source": "",
   "id": "411498a94e881d37"
  },
  {
   "metadata": {},
   "cell_type": "code",
   "outputs": [],
   "execution_count": null,
   "source": "",
   "id": "48aac5a51677edc4"
  },
  {
   "metadata": {},
   "cell_type": "markdown",
   "source": [
    "## TOV equation(s): (integral-eq approach)\n",
    "\n",
    "\\begin{gather}\n",
    "    \\frac{dp}{dr} = -\\frac{G \\rho(r) \\mathcal{M}(r)}{r^2}\n",
    "    \\\\\n",
    "    \\frac{d\\mathcal{M}}{dr} = 4 \\pi^2 \\rho(r)\n",
    "    \\\\\n",
    "    \\mathcal{M}(r) = 4 \\pi \\int_0^r r'^2 \\rho(r') dr'\n",
    "\\end{gather}"
   ],
   "id": "92ec4997fc6bc620"
  },
  {
   "metadata": {},
   "cell_type": "code",
   "outputs": [],
   "execution_count": null,
   "source": "",
   "id": "8b701646fa25b978"
  },
  {
   "metadata": {},
   "cell_type": "code",
   "outputs": [],
   "execution_count": null,
   "source": "",
   "id": "adbd8407627e7e16"
  },
  {
   "metadata": {},
   "cell_type": "code",
   "outputs": [],
   "execution_count": null,
   "source": "",
   "id": "c8b2c8b187692964"
  }
 ],
 "metadata": {
  "kernelspec": {
   "display_name": "Python 3",
   "language": "python",
   "name": "python3"
  },
  "language_info": {
   "codemirror_mode": {
    "name": "ipython",
    "version": 2
   },
   "file_extension": ".py",
   "mimetype": "text/x-python",
   "name": "python",
   "nbconvert_exporter": "python",
   "pygments_lexer": "ipython2",
   "version": "2.7.6"
  }
 },
 "nbformat": 4,
 "nbformat_minor": 5
}
