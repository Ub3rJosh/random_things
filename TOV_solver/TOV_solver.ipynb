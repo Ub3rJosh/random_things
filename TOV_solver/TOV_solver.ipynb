{
 "cells": [
  {
   "cell_type": "code",
   "id": "initial_id",
   "metadata": {
    "collapsed": true,
    "ExecuteTime": {
     "end_time": "2024-06-12T03:50:34.173819Z",
     "start_time": "2024-06-12T03:50:33.906137Z"
    }
   },
   "source": [
    "from matplotlib import pyplot as plt\n",
    "import numpy as np\n",
    "import scipy\n",
    "\n",
    "from modules import c"
   ],
   "outputs": [],
   "execution_count": 1
  },
  {
   "metadata": {},
   "cell_type": "markdown",
   "source": [
    "## TOV equation:  (diff-eq approach)\n",
    "\\begin{gather}\n",
    "    \\frac{dP}{dr} = \n",
    "    -\\frac{G m}{r^2} \\rho \n",
    "    \\left(1 + \\frac{P}{\\rho c^2}\\right) \n",
    "    \\left(1 + \\frac{4 \\pi r^3 P}{m c^2}\\right)\n",
    "    \\left(1 - \\frac{2 G m}{r c^2}\\right)^{-1}\n",
    "\\end{gather}\n",
    "\n",
    "but we want to solve the scaled TOV equations:\n",
    "\\begin{gather}\n",
    "    \\boxed{\n",
    "    \\frac{dp(x)}{dx} = -\\frac{1}{2} \\frac{\\left[\\epsilon(x) + p(x))\\right]\\left[m(x) + 3 x^3 p(x)\\right]}{x^2 \\left[1 - m(x)/x\\right]}\n",
    "    \\\\\n",
    "    \\frac{dm(x)}{dx} = 3 x^2 \\epsilon(x)\n",
    "    }\n",
    "\\end{gather}"
   ],
   "id": "127aff081999317c"
  },
  {
   "metadata": {
    "ExecuteTime": {
     "end_time": "2024-06-12T03:50:34.182122Z",
     "start_time": "2024-06-12T03:50:34.177605Z"
    }
   },
   "cell_type": "code",
   "source": [
    "Epsilon_naught = 1.285  # GeV / fm^3\n",
    "\n",
    "def epsilon(p_of_x, m_of_x):\n",
    "    # eps_of_p = np.sqrt((p_of_x * c) ** 2 + (m_of_x * c) ** 2)\n",
    "    eps_of_p = np.sqrt((p_of_x * 1) ** 2 + (m_of_x * 1) ** 2)\n",
    "    \n",
    "    return eps_of_p\n",
    "\n",
    "def m(x, p_of_x):\n",
    "    return 4 * np.pi * x**2 * p_of_x"
   ],
   "id": "80cd501103148b99",
   "outputs": [],
   "execution_count": 2
  },
  {
   "metadata": {
    "ExecuteTime": {
     "end_time": "2024-06-12T03:50:34.187133Z",
     "start_time": "2024-06-12T03:50:34.184197Z"
    }
   },
   "cell_type": "code",
   "source": [
    "n = 1_000\n",
    "\n",
    "x, dx = np.linspace(0, 100, n, retstep=True)  # units? lets use meters for now  -- just kidding it's solar masses\n",
    "x[0] = 1e-9  # some eps"
   ],
   "id": "d631dfd774a75f62",
   "outputs": [],
   "execution_count": 3
  },
  {
   "metadata": {},
   "cell_type": "markdown",
   "source": [
    "from my scattering code:\n",
    "\n",
    "```python\n",
    "\n",
    "def full_radial_schrodinger_eqn(r_value, u, theta):\n",
    "\n",
    "    return np.array([\n",
    "                     u[1], \n",
    "                     ( \n",
    "                      (l * (l + 1)) / ((r_value) ** 2)  + \n",
    "                      ((2 * mass) / (hbarc ** 2) ) * (  theta[0] * np.exp(-kappa_r*r_value**2) + theta[1] * np.exp(-kappa_s*r_value**2)  )  - \n",
    "                      p2\n",
    "                      ) * u[0]\n",
    "                     ])\n",
    "```"
   ],
   "id": "1d9b894923e9e699"
  },
  {
   "metadata": {
    "ExecuteTime": {
     "end_time": "2024-06-12T03:50:34.383855Z",
     "start_time": "2024-06-12T03:50:34.187821Z"
    }
   },
   "cell_type": "code",
   "source": [
    "def solve_ivp_diffeq(x, p):\n",
    "    return np.array([-0.5 * (epsilon(p[0], m(x, p[0])) + p[0]) * (m(x, p[0]) + 3 * x * p[0]) / (x**2 * (1 - m(x, p[0]) / x))])\n",
    "\n",
    "solve_ivp_result = scipy.integrate.solve_ivp(solve_ivp_diffeq, (x[0], x[-1]), (0., 1.), t_eval=x)\n",
    "print(solve_ivp_result)\n",
    "\n",
    "p = solve_ivp_result.y[0]\n",
    "p_pr = solve_ivp_result.y[1]\n",
    "\n",
    "plt.plot(x, p, label=\"p\")\n",
    "plt.plot(x, p_pr, label=\"p'\")\n",
    "# plt.yscale(\"log\")\n",
    "plt.legend()\n",
    "plt.show()"
   ],
   "id": "c96a72845db49365",
   "outputs": [
    {
     "name": "stdout",
     "output_type": "stream",
     "text": [
      "  message: The solver successfully reached the end of the integration interval.\n",
      "  success: True\n",
      "   status: 0\n",
      "        t: [ 1.000e-09  1.001e-01 ...  9.990e+01  1.000e+02]\n",
      "        y: [[ 0.000e+00  0.000e+00 ...  0.000e+00  0.000e+00]\n",
      "            [ 1.000e+00  1.000e+00 ...  1.000e+00  1.000e+00]]\n",
      "      sol: None\n",
      " t_events: None\n",
      " y_events: None\n",
      "     nfev: 56\n",
      "     njev: 0\n",
      "      nlu: 0\n"
     ]
    },
    {
     "data": {
      "text/plain": [
       "<Figure size 640x480 with 1 Axes>"
      ],
      "image/png": "[encoded data removed]"
     },
     "metadata": {},
     "output_type": "display_data"
    }
   ],
   "execution_count": 4
  },
  {
   "metadata": {
    "ExecuteTime": {
     "end_time": "2024-06-12T03:50:34.395185Z",
     "start_time": "2024-06-12T03:50:34.392765Z"
    }
   },
   "cell_type": "code",
   "source": "",
   "id": "67d3ecf8c4c4a1db",
   "outputs": [],
   "execution_count": 4
  },
  {
   "metadata": {
    "ExecuteTime": {
     "end_time": "2024-06-12T03:50:34.398936Z",
     "start_time": "2024-06-12T03:50:34.396767Z"
    }
   },
   "cell_type": "code",
   "source": "",
   "id": "411498a94e881d37",
   "outputs": [],
   "execution_count": 4
  },
  {
   "metadata": {
    "ExecuteTime": {
     "end_time": "2024-06-12T03:50:34.404953Z",
     "start_time": "2024-06-12T03:50:34.401538Z"
    }
   },
   "cell_type": "code",
   "source": "",
   "id": "48aac5a51677edc4",
   "outputs": [],
   "execution_count": 4
  },
  {
   "metadata": {},
   "cell_type": "markdown",
   "source": [
    "## TOV equation(s): (integral-eq approach)\n",
    "\n",
    "\\begin{gather}\n",
    "    \\frac{dp}{dr} = -\\frac{G \\rho(r) \\mathcal{M}(r)}{r^2}\n",
    "    \\\\\n",
    "    \\frac{d\\mathcal{M}}{dr} = 4 \\pi^2 \\rho(r)\n",
    "    \\\\\n",
    "    \\mathcal{M}(r) = 4 \\pi \\int_0^r r'^2 \\rho(r') dr'\n",
    "\\end{gather}"
   ],
   "id": "92ec4997fc6bc620"
  },
  {
   "metadata": {
    "ExecuteTime": {
     "end_time": "2024-06-12T03:50:34.409151Z",
     "start_time": "2024-06-12T03:50:34.406759Z"
    }
   },
   "cell_type": "code",
   "source": "",
   "id": "8b701646fa25b978",
   "outputs": [],
   "execution_count": 4
  },
  {
   "metadata": {
    "ExecuteTime": {
     "end_time": "2024-06-12T03:50:34.412374Z",
     "start_time": "2024-06-12T03:50:34.410576Z"
    }
   },
   "cell_type": "code",
   "source": "",
   "id": "adbd8407627e7e16",
   "outputs": [],
   "execution_count": 4
  },
  {
   "metadata": {
    "ExecuteTime": {
     "end_time": "2024-06-12T03:50:34.417048Z",
     "start_time": "2024-06-12T03:50:34.414470Z"
    }
   },
   "cell_type": "code",
   "source": "",
   "id": "c8b2c8b187692964",
   "outputs": [],
   "execution_count": 4
  }
 ],
 "metadata": {
  "kernelspec": {
   "display_name": "Python 3",
   "language": "python",
   "name": "python3"
  },
  "language_info": {
   "codemirror_mode": {
    "name": "ipython",
    "version": 2
   },
   "file_extension": ".py",
   "mimetype": "text/x-python",
   "name": "python",
   "nbconvert_exporter": "python",
   "pygments_lexer": "ipython2",
   "version": "2.7.6"
  }
 },
 "nbformat": 4,
 "nbformat_minor": 5
}
